{
 "cells": [
  {
   "cell_type": "code",
   "execution_count": 67,
   "metadata": {},
   "outputs": [],
   "source": [
    "import os \n",
    "import cv2\n",
    "import numpy as np\n",
    "from tqdm import tqdm\n",
    "\n"
   ]
  },
  {
   "cell_type": "markdown",
   "metadata": {},
   "source": [
    "Make our DataSet ! "
   ]
  },
  {
   "cell_type": "code",
   "execution_count": 68,
   "metadata": {},
   "outputs": [
    {
     "name": "stdout",
     "output_type": "stream",
     "text": [
      "PetImages/Cat\n"
     ]
    },
    {
     "name": "stderr",
     "output_type": "stream",
     "text": [
      " 18%|█▊        | 2243/12501 [00:01<00:05, 1839.76it/s]Corrupt JPEG data: 99 extraneous bytes before marker 0xd9\n",
      " 59%|█████▉    | 7367/12501 [00:04<00:03, 1624.84it/s]Corrupt JPEG data: 1153 extraneous bytes before marker 0xd9\n",
      " 62%|██████▏   | 7735/12501 [00:04<00:02, 1702.24it/s]Corrupt JPEG data: 214 extraneous bytes before marker 0xd9\n",
      " 72%|███████▏  | 8974/12501 [00:05<00:02, 1740.98it/s]Corrupt JPEG data: 239 extraneous bytes before marker 0xd9\n",
      " 85%|████████▍ | 10606/12501 [00:06<00:01, 1773.88it/s]Corrupt JPEG data: 128 extraneous bytes before marker 0xd9\n",
      "100%|██████████| 12501/12501 [00:07<00:00, 1766.61it/s]\n"
     ]
    },
    {
     "name": "stdout",
     "output_type": "stream",
     "text": [
      "PetImages/Dog\n"
     ]
    },
    {
     "name": "stderr",
     "output_type": "stream",
     "text": [
      " 23%|██▎       | 2936/12501 [00:01<00:05, 1690.83it/s]Corrupt JPEG data: 65 extraneous bytes before marker 0xd9\n",
      " 37%|███▋      | 4643/12501 [00:02<00:04, 1687.32it/s]Corrupt JPEG data: 226 extraneous bytes before marker 0xd9\n",
      "Warning: unknown JFIF revision number 0.00\n",
      " 44%|████▍     | 5522/12501 [00:03<00:04, 1698.74it/s]Corrupt JPEG data: 399 extraneous bytes before marker 0xd9\n",
      " 57%|█████▋    | 7074/12501 [00:04<00:03, 1679.59it/s]Corrupt JPEG data: 1403 extraneous bytes before marker 0xd9\n",
      " 66%|██████▌   | 8262/12501 [00:04<00:02, 1667.38it/s]Corrupt JPEG data: 162 extraneous bytes before marker 0xd9\n",
      " 72%|███████▏  | 8945/12501 [00:05<00:02, 1668.95it/s]Corrupt JPEG data: 254 extraneous bytes before marker 0xd9\n",
      " 96%|█████████▌| 12023/12501 [00:07<00:00, 1675.33it/s]Corrupt JPEG data: 2230 extraneous bytes before marker 0xd9\n",
      "100%|██████████| 12501/12501 [00:07<00:00, 1685.70it/s]\n"
     ]
    },
    {
     "name": "stdout",
     "output_type": "stream",
     "text": [
      "Cats: 12476\n",
      "Dogs: 12470\n"
     ]
    }
   ],
   "source": [
    "REBUILD_DATA = True # set to true to one once, then back to false unless you want to change something in your training data.\n",
    "\n",
    "#if the immages are all different sizes, you could ether \n",
    "# # resize everithing to a stendard size but it will distord\n",
    "# # images, or you coud resize and keep the aspect ratio and add\n",
    "# # padding (white or black) to make the immage the right size\n",
    "\n",
    "class DogsVSCats():\n",
    "    IMG_SIZE = 50\n",
    "    CATS = \"PetImages/Cat\"\n",
    "    DOGS = \"PetImages/Dog\"\n",
    "    TESTING = \"PetImages/Testing\"\n",
    "    LABELS = {CATS: 0, DOGS: 1}\n",
    "    training_data = []\n",
    "\n",
    "    catcount = 0\n",
    "    dogcount = 0\n",
    "\n",
    "    def make_training_data(self):\n",
    "        for label in self.LABELS:\n",
    "            print(label)\n",
    "            for f in tqdm(os.listdir(label)):\n",
    "                if \"jpg\" in f:\n",
    "                    try:\n",
    "                        path = os.path.join(label, f)\n",
    "                        img = cv2.imread(path, cv2.IMREAD_GRAYSCALE)\n",
    "                        img = cv2.resize(img, (self.IMG_SIZE, self.IMG_SIZE))\n",
    "\n",
    "                        self.training_data.append([np.array(img), np.eye(2)[self.LABELS[label]]])\n",
    "\n",
    "                        #check for Balancing \n",
    "\n",
    "                        if label == self.CATS:\n",
    "                            self.catcount += 1\n",
    "                        elif label == self.DOGS:\n",
    "                            self.dogcount += 1\n",
    "\n",
    "                    except Exception as e:\n",
    "                        # print(f\"Erreur lors du traitement de l'image: {path}, Erreur: {str(e)}\")\n",
    "                        pass\n",
    "\n",
    "        np.random.shuffle(self.training_data)\n",
    "        try:\n",
    "            self.training_data = np.array(self.training_data, dtype=object)\n",
    "            np.save(\"training_data.npy\", self.training_data)\n",
    "        except ValueError as e:\n",
    "            # print(\"Erreur lors de la conversion en array NumPy. Détails de l'erreur :\", str(e))\n",
    "            # for i, data in enumerate(self.training_data):\n",
    "            #     img, label = data\n",
    "            #     print(f\"Image {i}, Forme: {img.shape}, Label: {label}\")\n",
    "            pass\n",
    "        print('Cats:', self.catcount)\n",
    "        print('Dogs:', self.dogcount)\n",
    "\n",
    "if REBUILD_DATA:\n",
    "    dogsvcats = DogsVSCats()\n",
    "    dogsvcats.make_training_data()"
   ]
  },
  {
   "cell_type": "markdown",
   "metadata": {},
   "source": [
    "How to convert to 1 HOT VECTOR"
   ]
  },
  {
   "cell_type": "code",
   "execution_count": 69,
   "metadata": {},
   "outputs": [
    {
     "name": "stdout",
     "output_type": "stream",
     "text": [
      "cats:  [1. 0.] dogs:  [0. 1.]\n"
     ]
    }
   ],
   "source": [
    "ONEHV = np.eye(2)\n",
    "cats = ONEHV[0]\n",
    "dogs = ONEHV[1]\n",
    "print (\"cats: \",cats,\"dogs: \",dogs)"
   ]
  },
  {
   "cell_type": "markdown",
   "metadata": {},
   "source": [
    "training and testing data"
   ]
  },
  {
   "cell_type": "code",
   "execution_count": 70,
   "metadata": {},
   "outputs": [],
   "source": [
    "training_data = np.load(\"training_data.npy\",allow_pickle= True)"
   ]
  },
  {
   "cell_type": "code",
   "execution_count": 71,
   "metadata": {},
   "outputs": [
    {
     "name": "stdout",
     "output_type": "stream",
     "text": [
      "24946\n"
     ]
    }
   ],
   "source": [
    "print(len(training_data))"
   ]
  },
  {
   "cell_type": "code",
   "execution_count": 72,
   "metadata": {},
   "outputs": [
    {
     "name": "stdout",
     "output_type": "stream",
     "text": [
      "[array([[214, 216, 219, ..., 230, 228, 229],\n",
      "        [212, 215, 217, ..., 231, 229, 229],\n",
      "        [214, 216, 217, ..., 231, 229, 230],\n",
      "        ...,\n",
      "        [ 32,  28,  24, ..., 219, 217, 213],\n",
      "        [ 30,  28,  25, ..., 216, 211, 208],\n",
      "        [ 32,  27,  27, ..., 213, 210, 204]], dtype=uint8) array([1., 0.])]\n"
     ]
    }
   ],
   "source": [
    "print(training_data[0])"
   ]
  },
  {
   "cell_type": "code",
   "execution_count": 73,
   "metadata": {},
   "outputs": [
    {
     "data": {
      "image/png": "[encoded data removed]",
      "text/plain": [
       "<Figure size 640x480 with 1 Axes>"
      ]
     },
     "metadata": {},
     "output_type": "display_data"
    }
   ],
   "source": [
    "import matplotlib.pyplot as plt\n",
    "\n",
    "plt.imshow(training_data[0][0], cmap= \"gray\")\n",
    "plt.show()"
   ]
  },
  {
   "cell_type": "markdown",
   "metadata": {},
   "source": [
    "Building the network"
   ]
  },
  {
   "cell_type": "code",
   "execution_count": 74,
   "metadata": {},
   "outputs": [],
   "source": [
    "import torch\n",
    "import torch.nn as nn\n",
    "import torch.nn.functional as F"
   ]
  },
  {
   "cell_type": "markdown",
   "metadata": {},
   "source": [
    "Net Class"
   ]
  },
  {
   "cell_type": "code",
   "execution_count": 75,
   "metadata": {},
   "outputs": [
    {
     "name": "stdout",
     "output_type": "stream",
     "text": [
      "512\n"
     ]
    }
   ],
   "source": [
    "class Net(nn.Module):\n",
    "    def __init__(self):\n",
    "        super().__init__()\n",
    "        self.conv1 = nn.Conv2d(1,32,5)\n",
    "        self.conv2 = nn.Conv2d(32,64,5)\n",
    "        self.conv3 = nn.Conv2d(64,128,5)\n",
    "\n",
    "        # this is to determine the flatn of the output of conv3\n",
    "        x = torch.randn(50,50).view(-1,1,50,50)\n",
    "        self._to_linear = None\n",
    "        self.convs(x)\n",
    "\n",
    "        self.fc1 = nn.Linear(self._to_linear ,512)\n",
    "        self.fc2 = nn.Linear(512,2)\n",
    "    \n",
    "    def convs(self,x):\n",
    "        x = F.relu(self.conv1(x))\n",
    "        x = F.max_pool2d(x,(2,2))\n",
    "        x = F.relu(self.conv2(x))\n",
    "        x = F.max_pool2d(x,(2,2))\n",
    "        x = F.relu(self.conv3(x))\n",
    "        x = F.max_pool2d(x,(2,2))\n",
    "\n",
    "        if self._to_linear is None:\n",
    "            #numel() counts how many elements in x[0]\n",
    "            self._to_linear = x[0].numel()\n",
    "            print(self._to_linear)\n",
    "        return x\n",
    "    \n",
    "    def forward (self, x):\n",
    "        x = self.convs(x)\n",
    "        x = x.view(-1, self._to_linear)\n",
    "        x = F.relu(self.fc1(x))\n",
    "        x = self.fc2(x)\n",
    "        return (F.softmax(x,dim = 1))\n",
    "    \n",
    "    \n",
    "    \n",
    "device = torch.device(\"cuda\" )\n",
    "\n",
    "net = Net().to(device)\n",
    "\n",
    "\n"
   ]
  },
  {
   "cell_type": "markdown",
   "metadata": {},
   "source": [
    "Making sets and Optimizer"
   ]
  },
  {
   "cell_type": "code",
   "execution_count": 76,
   "metadata": {},
   "outputs": [
    {
     "name": "stdout",
     "output_type": "stream",
     "text": [
      "24946\n",
      "2494\n"
     ]
    }
   ],
   "source": [
    "import torch.optim as optim\n",
    "\n",
    "lr= 0.001\n",
    "\n",
    "optimizer = optim.Adam(net.parameters(), lr= 0.001)\n",
    "\n",
    "loss_function = nn.MSELoss()\n",
    "\n",
    "\n",
    "#then we have to separate the X __> imgs and y the labels\n",
    "\n",
    "#convert list of array in one single aray for performence (much faster)\n",
    "\n",
    "X_np = np.array([i[0] for i in training_data])\n",
    "\n",
    "# Convert numpy array in torch tensort\n",
    "\n",
    "X = torch.tensor(X_np).view(-1, 50, 50).float()\n",
    "\n",
    "X = X/255.0\n",
    "\n",
    "y=torch.tensor([i[1] for i in training_data]).float()\n",
    "\n",
    "#VAL_PCT is the purcentage of the train data you wanna use in a verify/test data\n",
    "\n",
    "VAL_PCT = 0.1\n",
    "val_size = int(len(X)*VAL_PCT)\n",
    "print (len(X))\n",
    "print (val_size)\n"
   ]
  },
  {
   "cell_type": "code",
   "execution_count": 77,
   "metadata": {},
   "outputs": [
    {
     "name": "stdout",
     "output_type": "stream",
     "text": [
      "22452\n",
      "2494\n"
     ]
    }
   ],
   "source": [
    "\n",
    "train_X = X[:-val_size]\n",
    "train_y = y[:-val_size]\n",
    "\n",
    "test_X = X[-val_size:]\n",
    "test_y = y[-val_size:]\n",
    "\n",
    "print(len(train_X))\n",
    "print(len(test_X))"
   ]
  },
  {
   "cell_type": "markdown",
   "metadata": {},
   "source": [
    "Training"
   ]
  },
  {
   "cell_type": "code",
   "execution_count": 78,
   "metadata": {},
   "outputs": [
    {
     "name": "stderr",
     "output_type": "stream",
     "text": [
      "100%|██████████| 351/351 [00:01<00:00, 330.65it/s]\n"
     ]
    },
    {
     "name": "stdout",
     "output_type": "stream",
     "text": [
      "tensor(0.2668, device='cuda:0', grad_fn=<MseLossBackward0>)\n"
     ]
    },
    {
     "name": "stderr",
     "output_type": "stream",
     "text": [
      "100%|██████████| 39/39 [00:00<00:00, 998.72it/s]\n"
     ]
    },
    {
     "name": "stdout",
     "output_type": "stream",
     "text": [
      "Accuracy:  0.601\n"
     ]
    },
    {
     "name": "stderr",
     "output_type": "stream",
     "text": [
      "100%|██████████| 351/351 [00:01<00:00, 339.60it/s]\n"
     ]
    },
    {
     "name": "stdout",
     "output_type": "stream",
     "text": [
      "tensor(0.2140, device='cuda:0', grad_fn=<MseLossBackward0>)\n"
     ]
    },
    {
     "name": "stderr",
     "output_type": "stream",
     "text": [
      "100%|██████████| 39/39 [00:00<00:00, 1000.88it/s]\n"
     ]
    },
    {
     "name": "stdout",
     "output_type": "stream",
     "text": [
      "Accuracy:  0.652\n"
     ]
    },
    {
     "name": "stderr",
     "output_type": "stream",
     "text": [
      "100%|██████████| 351/351 [00:01<00:00, 338.91it/s]\n"
     ]
    },
    {
     "name": "stdout",
     "output_type": "stream",
     "text": [
      "tensor(0.1825, device='cuda:0', grad_fn=<MseLossBackward0>)\n"
     ]
    },
    {
     "name": "stderr",
     "output_type": "stream",
     "text": [
      "100%|██████████| 39/39 [00:00<00:00, 991.77it/s]\n"
     ]
    },
    {
     "name": "stdout",
     "output_type": "stream",
     "text": [
      "Accuracy:  0.725\n"
     ]
    },
    {
     "name": "stderr",
     "output_type": "stream",
     "text": [
      "100%|██████████| 351/351 [00:01<00:00, 337.16it/s]\n"
     ]
    },
    {
     "name": "stdout",
     "output_type": "stream",
     "text": [
      "tensor(0.1545, device='cuda:0', grad_fn=<MseLossBackward0>)\n"
     ]
    },
    {
     "name": "stderr",
     "output_type": "stream",
     "text": [
      "100%|██████████| 39/39 [00:00<00:00, 995.91it/s]\n"
     ]
    },
    {
     "name": "stdout",
     "output_type": "stream",
     "text": [
      "Accuracy:  0.747\n"
     ]
    },
    {
     "name": "stderr",
     "output_type": "stream",
     "text": [
      "100%|██████████| 351/351 [00:01<00:00, 333.67it/s]\n"
     ]
    },
    {
     "name": "stdout",
     "output_type": "stream",
     "text": [
      "tensor(0.1393, device='cuda:0', grad_fn=<MseLossBackward0>)\n"
     ]
    },
    {
     "name": "stderr",
     "output_type": "stream",
     "text": [
      "100%|██████████| 39/39 [00:00<00:00, 1001.78it/s]\n"
     ]
    },
    {
     "name": "stdout",
     "output_type": "stream",
     "text": [
      "Accuracy:  0.762\n"
     ]
    },
    {
     "name": "stderr",
     "output_type": "stream",
     "text": [
      "100%|██████████| 351/351 [00:01<00:00, 329.06it/s]\n"
     ]
    },
    {
     "name": "stdout",
     "output_type": "stream",
     "text": [
      "tensor(0.1309, device='cuda:0', grad_fn=<MseLossBackward0>)\n"
     ]
    },
    {
     "name": "stderr",
     "output_type": "stream",
     "text": [
      "100%|██████████| 39/39 [00:00<00:00, 996.26it/s]\n"
     ]
    },
    {
     "name": "stdout",
     "output_type": "stream",
     "text": [
      "Accuracy:  0.766\n"
     ]
    },
    {
     "name": "stderr",
     "output_type": "stream",
     "text": [
      "100%|██████████| 351/351 [00:01<00:00, 335.15it/s]\n"
     ]
    },
    {
     "name": "stdout",
     "output_type": "stream",
     "text": [
      "tensor(0.1190, device='cuda:0', grad_fn=<MseLossBackward0>)\n"
     ]
    },
    {
     "name": "stderr",
     "output_type": "stream",
     "text": [
      "100%|██████████| 39/39 [00:00<00:00, 1000.69it/s]\n"
     ]
    },
    {
     "name": "stdout",
     "output_type": "stream",
     "text": [
      "Accuracy:  0.761\n"
     ]
    },
    {
     "name": "stderr",
     "output_type": "stream",
     "text": [
      "100%|██████████| 351/351 [00:01<00:00, 337.06it/s]\n"
     ]
    },
    {
     "name": "stdout",
     "output_type": "stream",
     "text": [
      "tensor(0.0649, device='cuda:0', grad_fn=<MseLossBackward0>)\n"
     ]
    },
    {
     "name": "stderr",
     "output_type": "stream",
     "text": [
      "100%|██████████| 39/39 [00:00<00:00, 994.17it/s]\n"
     ]
    },
    {
     "name": "stdout",
     "output_type": "stream",
     "text": [
      "Accuracy:  0.774\n"
     ]
    },
    {
     "name": "stderr",
     "output_type": "stream",
     "text": [
      "100%|██████████| 351/351 [00:01<00:00, 336.71it/s]\n"
     ]
    },
    {
     "name": "stdout",
     "output_type": "stream",
     "text": [
      "tensor(0.0453, device='cuda:0', grad_fn=<MseLossBackward0>)\n"
     ]
    },
    {
     "name": "stderr",
     "output_type": "stream",
     "text": [
      "100%|██████████| 39/39 [00:00<00:00, 996.34it/s]\n"
     ]
    },
    {
     "name": "stdout",
     "output_type": "stream",
     "text": [
      "Accuracy:  0.77\n"
     ]
    },
    {
     "name": "stderr",
     "output_type": "stream",
     "text": [
      "100%|██████████| 351/351 [00:01<00:00, 336.22it/s]\n"
     ]
    },
    {
     "name": "stdout",
     "output_type": "stream",
     "text": [
      "tensor(0.0390, device='cuda:0', grad_fn=<MseLossBackward0>)\n"
     ]
    },
    {
     "name": "stderr",
     "output_type": "stream",
     "text": [
      "100%|██████████| 39/39 [00:00<00:00, 990.64it/s]\n"
     ]
    },
    {
     "name": "stdout",
     "output_type": "stream",
     "text": [
      "Accuracy:  0.776\n"
     ]
    },
    {
     "name": "stderr",
     "output_type": "stream",
     "text": [
      "100%|██████████| 351/351 [00:01<00:00, 335.11it/s]\n"
     ]
    },
    {
     "name": "stdout",
     "output_type": "stream",
     "text": [
      "tensor(0.0281, device='cuda:0', grad_fn=<MseLossBackward0>)\n"
     ]
    },
    {
     "name": "stderr",
     "output_type": "stream",
     "text": [
      "100%|██████████| 39/39 [00:00<00:00, 998.20it/s]\n"
     ]
    },
    {
     "name": "stdout",
     "output_type": "stream",
     "text": [
      "Accuracy:  0.771\n"
     ]
    },
    {
     "name": "stderr",
     "output_type": "stream",
     "text": [
      "100%|██████████| 351/351 [00:01<00:00, 330.32it/s]\n"
     ]
    },
    {
     "name": "stdout",
     "output_type": "stream",
     "text": [
      "tensor(0.0016, device='cuda:0', grad_fn=<MseLossBackward0>)\n"
     ]
    },
    {
     "name": "stderr",
     "output_type": "stream",
     "text": [
      "100%|██████████| 39/39 [00:00<00:00, 994.71it/s]\n"
     ]
    },
    {
     "name": "stdout",
     "output_type": "stream",
     "text": [
      "Accuracy:  0.785\n"
     ]
    },
    {
     "name": "stderr",
     "output_type": "stream",
     "text": [
      "100%|██████████| 351/351 [00:01<00:00, 332.12it/s]\n"
     ]
    },
    {
     "name": "stdout",
     "output_type": "stream",
     "text": [
      "tensor(0.0058, device='cuda:0', grad_fn=<MseLossBackward0>)\n"
     ]
    },
    {
     "name": "stderr",
     "output_type": "stream",
     "text": [
      "100%|██████████| 39/39 [00:00<00:00, 992.36it/s]\n"
     ]
    },
    {
     "name": "stdout",
     "output_type": "stream",
     "text": [
      "Accuracy:  0.786\n"
     ]
    },
    {
     "name": "stderr",
     "output_type": "stream",
     "text": [
      "100%|██████████| 351/351 [00:01<00:00, 334.24it/s]\n"
     ]
    },
    {
     "name": "stdout",
     "output_type": "stream",
     "text": [
      "tensor(0.0064, device='cuda:0', grad_fn=<MseLossBackward0>)\n"
     ]
    },
    {
     "name": "stderr",
     "output_type": "stream",
     "text": [
      "100%|██████████| 39/39 [00:00<00:00, 983.71it/s]\n"
     ]
    },
    {
     "name": "stdout",
     "output_type": "stream",
     "text": [
      "Accuracy:  0.785\n"
     ]
    },
    {
     "name": "stderr",
     "output_type": "stream",
     "text": [
      "100%|██████████| 351/351 [00:01<00:00, 332.61it/s]\n"
     ]
    },
    {
     "name": "stdout",
     "output_type": "stream",
     "text": [
      "tensor(0.0033, device='cuda:0', grad_fn=<MseLossBackward0>)\n"
     ]
    },
    {
     "name": "stderr",
     "output_type": "stream",
     "text": [
      "100%|██████████| 39/39 [00:00<00:00, 987.40it/s]\n"
     ]
    },
    {
     "name": "stdout",
     "output_type": "stream",
     "text": [
      "Accuracy:  0.783\n"
     ]
    },
    {
     "data": {
      "image/png": "[encoded data removed]",
      "text/plain": [
       "<Figure size 640x480 with 1 Axes>"
      ]
     },
     "metadata": {},
     "output_type": "display_data"
    }
   ],
   "source": [
    "\n",
    "BATCH_SIZE = 64\n",
    "EPOCHS = 15\n",
    "from torch.optim.lr_scheduler import OneCycleLR\n",
    "scheduler = OneCycleLR(optimizer, max_lr=lr, total_steps=int(((len(train_X) - 1) // BATCH_SIZE + 1) * EPOCHS))\n",
    "errors_over_epochs = []\n",
    "\n",
    "\n",
    "def Test():\n",
    "    correct = 0\n",
    "    total = 0\n",
    "    \n",
    "    with torch.no_grad():\n",
    "        for i in tqdm(range(0, len(test_X), BATCH_SIZE)):\n",
    "            batch_X = test_X[i:i+BATCH_SIZE].view(-1, 1, 50, 50).to(device).float()\n",
    "            batch_y = test_y[i:i+BATCH_SIZE].to(device).float()\n",
    "\n",
    "            outputs = net(batch_X)\n",
    "            \n",
    "\n",
    "            predicted_classes = torch.argmax(outputs, dim=1)\n",
    "            real_classes = torch.argmax(batch_y, dim=1)\n",
    "            correct += (predicted_classes == real_classes).sum().item()\n",
    "            total += batch_X.size(0)\n",
    "\n",
    "    accuracy = correct / total\n",
    "    print(\"Accuracy: \", round(accuracy, 3))\n",
    "    return total - correct\n",
    "\n",
    "\n",
    "\n",
    "\n",
    "for epoch in range (EPOCHS):\n",
    "    for i in tqdm(range(0, len(train_X), BATCH_SIZE)):\n",
    "        \n",
    "        \n",
    "        batch_X = train_X[i:i+BATCH_SIZE].view(-1, 1, 50, 50).to(device).float()\n",
    "\n",
    "        batch_y = train_y[i:i+BATCH_SIZE].to(device).float()\n",
    "\n",
    "        net.zero_grad()\n",
    "        outputs = net(batch_X)\n",
    "        loss = loss_function(outputs, batch_y)\n",
    "        loss.backward()\n",
    "        optimizer.step()\n",
    "        scheduler.step()\n",
    "    print(loss)\n",
    "    errors_over_epochs.append(Test())\n",
    "    \n",
    "    \n",
    "\n",
    "\n",
    "\n",
    "plt.plot(errors_over_epochs)\n",
    "plt.xlabel('Epochs')\n",
    "plt.ylabel('Number of Errors')\n",
    "plt.title('Number of Errors over Epochs')\n",
    "plt.show()\n"
   ]
  },
  {
   "cell_type": "code",
   "execution_count": 79,
   "metadata": {},
   "outputs": [
    {
     "name": "stderr",
     "output_type": "stream",
     "text": [
      "100%|██████████| 2494/2494 [00:00<00:00, 2975.80it/s]"
     ]
    },
    {
     "name": "stdout",
     "output_type": "stream",
     "text": [
      "Accuracy:  0.783\n"
     ]
    },
    {
     "name": "stderr",
     "output_type": "stream",
     "text": [
      "\n"
     ]
    },
    {
     "data": {
      "text/plain": [
       "540"
      ]
     },
     "execution_count": 79,
     "metadata": {},
     "output_type": "execute_result"
    }
   ],
   "source": [
    "def Test():\n",
    "    correct = 0\n",
    "    total = 0\n",
    "    with torch.no_grad():\n",
    "        for i in tqdm(range(len(test_X))):\n",
    "            real_class = torch.argmax(test_y[i])\n",
    "            net_out = net(test_X[i].view(-1, 1, 50, 50).to(device))[0]  # returns a list, \n",
    "            predicted_class = torch.argmax(net_out)\n",
    "\n",
    "            if predicted_class == real_class:\n",
    "                correct += 1\n",
    "            total += 1\n",
    "    print(\"Accuracy: \", round(correct/total, 3))\n",
    "    return (total - correct)\n",
    "Test()"
   ]
  },
  {
   "cell_type": "markdown",
   "metadata": {},
   "source": [
    "Save my Network"
   ]
  },
  {
   "cell_type": "code",
   "execution_count": 80,
   "metadata": {},
   "outputs": [
    {
     "data": {
      "text/plain": [
       "Net(\n",
       "  (conv1): Conv2d(1, 32, kernel_size=(5, 5), stride=(1, 1))\n",
       "  (conv2): Conv2d(32, 64, kernel_size=(5, 5), stride=(1, 1))\n",
       "  (conv3): Conv2d(64, 128, kernel_size=(5, 5), stride=(1, 1))\n",
       "  (fc1): Linear(in_features=512, out_features=512, bias=True)\n",
       "  (fc2): Linear(in_features=512, out_features=2, bias=True)\n",
       ")"
      ]
     },
     "execution_count": 80,
     "metadata": {},
     "output_type": "execute_result"
    }
   ],
   "source": [
    "\n",
    "import torch.onnx\n",
    "\n",
    "torch.save(net.state_dict(), 'CNN_chat_chien.pth')\n",
    "\n",
    "net.load_state_dict(torch.load('CNN_chat_chien.pth'))\n",
    "net.eval()\n",
    "\n"
   ]
  },
  {
   "cell_type": "code",
   "execution_count": 81,
   "metadata": {},
   "outputs": [],
   "source": [
    "IMG_name = \"cat_web.jpg\"\n",
    "\n",
    "IMG_SIZE = 50\n"
   ]
  },
  {
   "cell_type": "code",
   "execution_count": 82,
   "metadata": {},
   "outputs": [
    {
     "data": {
      "image/png": "[encoded data removed]",
      "text/plain": [
       "<Figure size 640x480 with 1 Axes>"
      ]
     },
     "metadata": {},
     "output_type": "display_data"
    },
    {
     "name": "stdout",
     "output_type": "stream",
     "text": [
      "Tenseur d'entrée: tensor([[[[0.5412, 0.5686, 0.5922,  ..., 0.2275, 0.2275, 0.5451],\n",
      "          [0.5804, 0.5922, 0.6000,  ..., 0.2275, 0.1765, 0.1765],\n",
      "          [0.5725, 0.5882, 0.5882,  ..., 0.2275, 0.1608, 0.1451],\n",
      "          ...,\n",
      "          [0.2196, 0.3490, 0.6078,  ..., 0.2157, 0.2196, 0.1961],\n",
      "          [0.2235, 0.4784, 0.4157,  ..., 0.2431, 0.2392, 0.2196],\n",
      "          [0.1961, 0.3569, 0.3569,  ..., 0.2431, 0.2392, 0.2118]]]])\n",
      "Sortie du modèle: tensor([[0.9375, 0.0625]], device='cuda:0')\n"
     ]
    },
    {
     "data": {
      "text/plain": [
       "'Cat'"
      ]
     },
     "execution_count": 82,
     "metadata": {},
     "output_type": "execute_result"
    }
   ],
   "source": [
    "\n",
    "\n",
    "def Img_import_to_tensor(IMG_name, IMG_SIZE):\n",
    "    path = os.path.join(IMG_name)\n",
    "\n",
    "    imgweb = cv2.imread(path, cv2.IMREAD_GRAYSCALE)\n",
    "    \n",
    "    imgweb = cv2.resize(imgweb, (IMG_SIZE, IMG_SIZE))\n",
    "    plt.imshow(imgweb, cmap= \"gray\")\n",
    "    plt.show()\n",
    "    imgweb = torch.tensor(imgweb, dtype=torch.float32) / 255  # Convertir en float et normaliser\n",
    "    imgweb = imgweb.view(1, 1, 50, 50)  # Ajouter une dimension de lot\n",
    "    print(\"Tenseur d'entrée:\", imgweb)\n",
    "    return (imgweb)\n",
    "\n",
    "def Img_import_to_array(IMG_name,IMG_SIZE):\n",
    "\n",
    "    path = os.path.join(IMG_name)\n",
    "    img = cv2.imread(path, cv2.IMREAD_GRAYSCALE)\n",
    "\n",
    "    img = cv2.resize(img, (IMG_SIZE, IMG_SIZE))\n",
    "    img = img.astype(np.float32)  \n",
    "    img = img / 255.0\n",
    "\n",
    "    img = img.reshape(1, 1, IMG_SIZE, IMG_SIZE)\n",
    "\n",
    "    return img\n",
    "\n",
    "def Tell_from_import(IMG_name,IMG_SIZE):\n",
    "\n",
    "    \n",
    "    \n",
    "    with torch.no_grad():\n",
    "        output = net(Img_import_to_tensor(IMG_name,IMG_SIZE).to(device))\n",
    "        print(\"Sortie du modèle:\", output)\n",
    "\n",
    "    predicted_class = torch.argmax(output)\n",
    "    if predicted_class == 0:\n",
    "        return \"Cat\"\n",
    "    elif predicted_class == 1:\n",
    "        return \"Dog\"\n",
    "    else:\n",
    "        return \"Not sure\"\n",
    "\n",
    "Tell_from_import(IMG_name, IMG_SIZE)\n"
   ]
  },
  {
   "cell_type": "markdown",
   "metadata": {},
   "source": [
    " Conversion and exportation of PyTorch model to ONNX"
   ]
  },
  {
   "cell_type": "code",
   "execution_count": 83,
   "metadata": {},
   "outputs": [],
   "source": [
    "\n",
    "x = torch.randn(1, 1, 50, 50).to(device)\n",
    "torch.onnx.export(net, x, \"sortie_CNN_chat_chien.onnx\")\n",
    "\n"
   ]
  },
  {
   "cell_type": "markdown",
   "metadata": {},
   "source": [
    "Determin the imput name"
   ]
  },
  {
   "cell_type": "code",
   "execution_count": 84,
   "metadata": {},
   "outputs": [
    {
     "name": "stdout",
     "output_type": "stream",
     "text": [
      "Nom de l'entrée attendue par le modèle ONNX : input.1\n"
     ]
    }
   ],
   "source": [
    "import onnxruntime as ort\n",
    "\n",
    "# Charger le modèle ONNX\n",
    "ort_session = ort.InferenceSession(\"sortie_CNN_chat_chien.onnx\")\n",
    "\n",
    "\n",
    "input_name = ort_session.get_inputs()[0].name\n",
    "print(\"Nom de l'entrée attendue par le modèle ONNX :\", input_name)\n",
    "\n"
   ]
  },
  {
   "cell_type": "code",
   "execution_count": 85,
   "metadata": {},
   "outputs": [
    {
     "name": "stdout",
     "output_type": "stream",
     "text": [
      "[array([[0.9374189 , 0.06258117]], dtype=float32)]\n"
     ]
    }
   ],
   "source": [
    "\n",
    "\n",
    "\n",
    "\n",
    "input_data = Img_import_to_array(IMG_name, IMG_SIZE)\n",
    "input_data = input_data.astype(np.float32)  # Assurez-vous que les données sont au bon type\n",
    "\n",
    "# Obtenir le nom de l'entrée attendue par le modèle ONNX\n",
    "input_name = ort_session.get_inputs()[0].name\n",
    "\n",
    "# Exécuter le modèle avec les données d'entrée\n",
    "outputs = ort_session.run(None, {input_name: input_data})\n",
    "\n",
    "# Afficher les résultats\n",
    "print(outputs)\n"
   ]
  }
 ],
 "metadata": {
  "kernelspec": {
   "display_name": "Python 3",
   "language": "python",
   "name": "python3"
  },
  "language_info": {
   "codemirror_mode": {
    "name": "ipython",
    "version": 3
   },
   "file_extension": ".py",
   "mimetype": "text/x-python",
   "name": "python",
   "nbconvert_exporter": "python",
   "pygments_lexer": "ipython3",
   "version": "3.10.12"
  }
 },
 "nbformat": 4,
 "nbformat_minor": 2
}
